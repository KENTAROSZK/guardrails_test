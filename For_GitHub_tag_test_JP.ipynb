{
  "nbformat": 4,
  "nbformat_minor": 0,
  "metadata": {
    "colab": {
      "provenance": []
    },
    "kernelspec": {
      "name": "python3",
      "display_name": "Python 3"
    },
    "language_info": {
      "name": "python"
    }
  },
  "cells": [
    {
      "cell_type": "code",
      "execution_count": null,
      "metadata": {
        "colab": {
          "base_uri": "https://localhost:8080/"
        },
        "id": "Uyms4FFNYMe-",
        "outputId": "a2088dd1-3d70-41ed-d55c-7e5f32b31dad"
      },
      "outputs": [
        {
          "output_type": "stream",
          "name": "stdout",
          "text": [
            "Looking in indexes: https://pypi.org/simple, https://us-python.pkg.dev/colab-wheels/public/simple/\n",
            "Requirement already satisfied: guardrails-ai in /usr/local/lib/python3.10/dist-packages (0.1.6)\n",
            "Requirement already satisfied: openai in /usr/local/lib/python3.10/dist-packages (from guardrails-ai) (0.27.6)\n",
            "Requirement already satisfied: eliot-tree in /usr/local/lib/python3.10/dist-packages (from guardrails-ai) (21.0.0)\n",
            "Requirement already satisfied: typer in /usr/local/lib/python3.10/dist-packages (from guardrails-ai) (0.7.0)\n",
            "Requirement already satisfied: rich in /usr/local/lib/python3.10/dist-packages (from guardrails-ai) (13.3.4)\n",
            "Requirement already satisfied: tenacity in /usr/local/lib/python3.10/dist-packages (from guardrails-ai) (8.2.2)\n",
            "Requirement already satisfied: pydantic in /usr/local/lib/python3.10/dist-packages (from guardrails-ai) (1.10.7)\n",
            "Requirement already satisfied: griffe in /usr/local/lib/python3.10/dist-packages (from guardrails-ai) (0.27.3)\n",
            "Requirement already satisfied: eliot in /usr/local/lib/python3.10/dist-packages (from guardrails-ai) (1.14.0)\n",
            "Requirement already satisfied: lxml in /usr/local/lib/python3.10/dist-packages (from guardrails-ai) (4.9.2)\n",
            "Requirement already satisfied: boltons>=19.0.1 in /usr/local/lib/python3.10/dist-packages (from eliot->guardrails-ai) (23.0.0)\n",
            "Requirement already satisfied: zope.interface in /usr/local/lib/python3.10/dist-packages (from eliot->guardrails-ai) (6.0)\n",
            "Requirement already satisfied: six in /usr/local/lib/python3.10/dist-packages (from eliot->guardrails-ai) (1.16.0)\n",
            "Requirement already satisfied: pyrsistent>=0.11.8 in /usr/local/lib/python3.10/dist-packages (from eliot->guardrails-ai) (0.19.3)\n",
            "Requirement already satisfied: toolz>=0.8.2 in /usr/local/lib/python3.10/dist-packages (from eliot-tree->guardrails-ai) (0.12.0)\n",
            "Requirement already satisfied: jmespath>=0.7.1 in /usr/local/lib/python3.10/dist-packages (from eliot-tree->guardrails-ai) (1.0.1)\n",
            "Requirement already satisfied: iso8601>=0.1.10 in /usr/local/lib/python3.10/dist-packages (from eliot-tree->guardrails-ai) (1.1.0)\n",
            "Requirement already satisfied: colored>=1.4.2 in /usr/local/lib/python3.10/dist-packages (from eliot-tree->guardrails-ai) (1.4.4)\n",
            "Requirement already satisfied: colorama>=0.4 in /usr/local/lib/python3.10/dist-packages (from griffe->guardrails-ai) (0.4.6)\n",
            "Requirement already satisfied: requests>=2.20 in /usr/local/lib/python3.10/dist-packages (from openai->guardrails-ai) (2.27.1)\n",
            "Requirement already satisfied: tqdm in /usr/local/lib/python3.10/dist-packages (from openai->guardrails-ai) (4.65.0)\n",
            "Requirement already satisfied: aiohttp in /usr/local/lib/python3.10/dist-packages (from openai->guardrails-ai) (3.8.4)\n",
            "Requirement already satisfied: typing-extensions>=4.2.0 in /usr/local/lib/python3.10/dist-packages (from pydantic->guardrails-ai) (4.5.0)\n",
            "Requirement already satisfied: markdown-it-py<3.0.0,>=2.2.0 in /usr/local/lib/python3.10/dist-packages (from rich->guardrails-ai) (2.2.0)\n",
            "Requirement already satisfied: pygments<3.0.0,>=2.13.0 in /usr/local/lib/python3.10/dist-packages (from rich->guardrails-ai) (2.14.0)\n",
            "Requirement already satisfied: click<9.0.0,>=7.1.1 in /usr/local/lib/python3.10/dist-packages (from typer->guardrails-ai) (8.1.3)\n",
            "Requirement already satisfied: mdurl~=0.1 in /usr/local/lib/python3.10/dist-packages (from markdown-it-py<3.0.0,>=2.2.0->rich->guardrails-ai) (0.1.2)\n",
            "Requirement already satisfied: charset-normalizer~=2.0.0 in /usr/local/lib/python3.10/dist-packages (from requests>=2.20->openai->guardrails-ai) (2.0.12)\n",
            "Requirement already satisfied: certifi>=2017.4.17 in /usr/local/lib/python3.10/dist-packages (from requests>=2.20->openai->guardrails-ai) (2022.12.7)\n",
            "Requirement already satisfied: idna<4,>=2.5 in /usr/local/lib/python3.10/dist-packages (from requests>=2.20->openai->guardrails-ai) (3.4)\n",
            "Requirement already satisfied: urllib3<1.27,>=1.21.1 in /usr/local/lib/python3.10/dist-packages (from requests>=2.20->openai->guardrails-ai) (1.26.15)\n",
            "Requirement already satisfied: aiosignal>=1.1.2 in /usr/local/lib/python3.10/dist-packages (from aiohttp->openai->guardrails-ai) (1.3.1)\n",
            "Requirement already satisfied: attrs>=17.3.0 in /usr/local/lib/python3.10/dist-packages (from aiohttp->openai->guardrails-ai) (23.1.0)\n",
            "Requirement already satisfied: async-timeout<5.0,>=4.0.0a3 in /usr/local/lib/python3.10/dist-packages (from aiohttp->openai->guardrails-ai) (4.0.2)\n",
            "Requirement already satisfied: multidict<7.0,>=4.5 in /usr/local/lib/python3.10/dist-packages (from aiohttp->openai->guardrails-ai) (6.0.4)\n",
            "Requirement already satisfied: frozenlist>=1.1.1 in /usr/local/lib/python3.10/dist-packages (from aiohttp->openai->guardrails-ai) (1.3.3)\n",
            "Requirement already satisfied: yarl<2.0,>=1.0 in /usr/local/lib/python3.10/dist-packages (from aiohttp->openai->guardrails-ai) (1.9.2)\n",
            "Requirement already satisfied: setuptools in /usr/local/lib/python3.10/dist-packages (from zope.interface->eliot->guardrails-ai) (67.7.2)\n",
            "Looking in indexes: https://pypi.org/simple, https://us-python.pkg.dev/colab-wheels/public/simple/\n",
            "Requirement already satisfied: openai in /usr/local/lib/python3.10/dist-packages (0.27.6)\n",
            "Requirement already satisfied: requests>=2.20 in /usr/local/lib/python3.10/dist-packages (from openai) (2.27.1)\n",
            "Requirement already satisfied: tqdm in /usr/local/lib/python3.10/dist-packages (from openai) (4.65.0)\n",
            "Requirement already satisfied: aiohttp in /usr/local/lib/python3.10/dist-packages (from openai) (3.8.4)\n",
            "Requirement already satisfied: charset-normalizer~=2.0.0 in /usr/local/lib/python3.10/dist-packages (from requests>=2.20->openai) (2.0.12)\n",
            "Requirement already satisfied: certifi>=2017.4.17 in /usr/local/lib/python3.10/dist-packages (from requests>=2.20->openai) (2022.12.7)\n",
            "Requirement already satisfied: urllib3<1.27,>=1.21.1 in /usr/local/lib/python3.10/dist-packages (from requests>=2.20->openai) (1.26.15)\n",
            "Requirement already satisfied: idna<4,>=2.5 in /usr/local/lib/python3.10/dist-packages (from requests>=2.20->openai) (3.4)\n",
            "Requirement already satisfied: attrs>=17.3.0 in /usr/local/lib/python3.10/dist-packages (from aiohttp->openai) (23.1.0)\n",
            "Requirement already satisfied: aiosignal>=1.1.2 in /usr/local/lib/python3.10/dist-packages (from aiohttp->openai) (1.3.1)\n",
            "Requirement already satisfied: multidict<7.0,>=4.5 in /usr/local/lib/python3.10/dist-packages (from aiohttp->openai) (6.0.4)\n",
            "Requirement already satisfied: async-timeout<5.0,>=4.0.0a3 in /usr/local/lib/python3.10/dist-packages (from aiohttp->openai) (4.0.2)\n",
            "Requirement already satisfied: frozenlist>=1.1.1 in /usr/local/lib/python3.10/dist-packages (from aiohttp->openai) (1.3.3)\n",
            "Requirement already satisfied: yarl<2.0,>=1.0 in /usr/local/lib/python3.10/dist-packages (from aiohttp->openai) (1.9.2)\n"
          ]
        }
      ],
      "source": [
        "!pip install guardrails-ai\n",
        "!pip install openai"
      ]
    },
    {
      "cell_type": "code",
      "source": [
        "import openai\n",
        "import os\n",
        "import guardrails as gd"
      ],
      "metadata": {
        "id": "eF61Fy85YQHz"
      },
      "execution_count": null,
      "outputs": []
    },
    {
      "cell_type": "code",
      "source": [
        "GPT_API_KEY = \"sk-\"\n",
        "\n",
        "os.environ[\"OPENAI_API_KEY\"] = GPT_API_KEY"
      ],
      "metadata": {
        "id": "yoEWq4LrYUI7"
      },
      "execution_count": null,
      "outputs": []
    },
    {
      "cell_type": "code",
      "source": [
        "from google.colab import drive\n",
        "drive.mount('/content/drive')"
      ],
      "metadata": {
        "colab": {
          "base_uri": "https://localhost:8080/"
        },
        "id": "ulrvi_s2YUZ4",
        "outputId": "bab21f49-deca-4748-8186-0108e05031dc"
      },
      "execution_count": null,
      "outputs": [
        {
          "output_type": "stream",
          "name": "stdout",
          "text": [
            "Drive already mounted at /content/drive; to attempt to forcibly remount, call drive.mount(\"/content/drive\", force_remount=True).\n"
          ]
        }
      ]
    },
    {
      "cell_type": "code",
      "source": [
        "DIR       = \"./\"\n",
        "TEXT_FILE = \"onepiece.txt\"\n",
        "\n",
        "#RAIL_FILE = \"test.rail\""
      ],
      "metadata": {
        "id": "K7zTmNHFYWdU"
      },
      "execution_count": null,
      "outputs": []
    },
    {
      "cell_type": "code",
      "source": [
        "with open(DIR + TEXT_FILE) as f:\n",
        "  text = f.read()"
      ],
      "metadata": {
        "id": "-s-UCL4uYWro"
      },
      "execution_count": null,
      "outputs": []
    },
    {
      "cell_type": "code",
      "source": [
        "rail_str = \"\"\"\n",
        "<rail version=\"0.1\">\n",
        "\n",
        "<output>\n",
        "\n",
        "    <object name = \"list_tags_object\">\n",
        "      <list name = \"tags\" description = \"次の文章の特徴を表す10個のタグを日本語でつけるとしたらどんなタグ?\">\n",
        "          <object>\n",
        "              <integer name = \"index\" format = \"1-indexed\" />\n",
        "              <string  name = \"tag\"   format=\"one-word\"  on-fail-one-word=\"reask\"/>\n",
        "          </object>\n",
        "      </list>\n",
        "    </object>\n",
        "\n",
        "</output>\n",
        "\n",
        "\n",
        "<prompt>\n",
        "Given the following document, answer the following questions. If the answer doesn't exist in the document, enter 'None'.\n",
        "\n",
        "{{document}}\n",
        "\n",
        "@xml_prefix_prompt\n",
        "\n",
        "{output_schema}\n",
        "\n",
        "@json_suffix_prompt_v2_wo_none</prompt>\n",
        "\n",
        "</rail>\n",
        "\"\"\""
      ],
      "metadata": {
        "id": "KGo9Op_wAJU6"
      },
      "execution_count": null,
      "outputs": []
    },
    {
      "cell_type": "code",
      "source": [
        "\n",
        "guard = gd.Guard.from_rail_string(rail_str)\n",
        "\n",
        "#guard = gd.Guard.from_rail(DIR + RAIL_FILE)\n",
        "\n",
        "# Warningsが出る場合があるけれども無視してOK"
      ],
      "metadata": {
        "id": "cX0NjHNNZbGA"
      },
      "execution_count": null,
      "outputs": []
    },
    {
      "cell_type": "code",
      "source": [
        "# Wrap the LLM API call with Guard\n",
        "\n",
        "raw_llm_response, validated_response = guard(\n",
        "    openai.Completion.create,\n",
        "    prompt_params = {\"document\": text},\n",
        "    engine        = \"text-davinci-003\",\n",
        "    max_tokens    = 1024,\n",
        "    temperature   = 0.0\n",
        ")"
      ],
      "metadata": {
        "id": "6kM_F-9EZmag"
      },
      "execution_count": null,
      "outputs": []
    },
    {
      "cell_type": "code",
      "source": [
        "print(validated_response)"
      ],
      "metadata": {
        "colab": {
          "base_uri": "https://localhost:8080/"
        },
        "id": "ooveT-MkZ2pn",
        "outputId": "7be9df47-81cc-48eb-ac4c-a0df26515d9e"
      },
      "execution_count": null,
      "outputs": [
        {
          "output_type": "stream",
          "name": "stdout",
          "text": [
            "{'list_tags_object': {'tags': [{'index': 1, 'tag': '冒険'}, {'index': 2, 'tag': '別れ'}, {'index': 3, 'tag': '修行'}, {'index': 4, 'tag': '海賊'}, {'index': 5, 'tag': 'コビー'}, {'index': 6, 'tag': 'アルビダ'}, {'index': 7, 'tag': 'ゾロ'}, {'index': 8, 'tag': 'ナミ'}, {'index': 9, 'tag': 'ウソップ'}, {'index': 10, 'tag': 'サンジ'}]}}\n"
          ]
        }
      ]
    },
    {
      "cell_type": "code",
      "source": [
        "# JSON形式を見やすくする\n",
        "\n",
        "import pprint\n",
        "pprint.pprint(validated_response)"
      ],
      "metadata": {
        "colab": {
          "base_uri": "https://localhost:8080/"
        },
        "id": "_RQZZpOibLTg",
        "outputId": "695dd2a0-acfd-4bcd-db4c-382aed31ba8b"
      },
      "execution_count": null,
      "outputs": [
        {
          "output_type": "stream",
          "name": "stdout",
          "text": [
            "{'list_tags_object': {'tags': [{'index': 1, 'tag': '冒険'},\n",
            "                               {'index': 2, 'tag': '別れ'},\n",
            "                               {'index': 3, 'tag': '修行'},\n",
            "                               {'index': 4, 'tag': '海賊'},\n",
            "                               {'index': 5, 'tag': 'コビー'},\n",
            "                               {'index': 6, 'tag': 'アルビダ'},\n",
            "                               {'index': 7, 'tag': 'ゾロ'},\n",
            "                               {'index': 8, 'tag': 'ナミ'},\n",
            "                               {'index': 9, 'tag': 'ウソップ'},\n",
            "                               {'index': 10, 'tag': 'サンジ'}]}}\n"
          ]
        }
      ]
    }
  ]
}